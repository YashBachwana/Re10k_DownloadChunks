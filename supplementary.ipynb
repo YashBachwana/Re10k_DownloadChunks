{
 "cells": [
  {
   "cell_type": "code",
   "execution_count": 18,
   "id": "a8e3df2d",
   "metadata": {},
   "outputs": [
    {
     "name": "stdout",
     "output_type": "stream",
     "text": [
      "Number of files in '/data/yash.bachwana/Datasets/scripts/Re10k/raw_7/transcode/train': 3860\n",
      "3860\n"
     ]
    }
   ],
   "source": [
    "# Check number of files in a directory\n",
    "import os\n",
    "def count_files_in_directory(directory):\n",
    "    try:\n",
    "        files = os.listdir(directory)\n",
    "        num_files = len(files)\n",
    "        print(f\"Number of files in '{directory}': {num_files}\")\n",
    "        return num_files\n",
    "    except FileNotFoundError:\n",
    "        print(f\"The directory '{directory}' does not exist.\")\n",
    "        return 0\n",
    "    \n",
    "# Example usage\n",
    "print(count_files_in_directory(\"/data/yash.bachwana/Datasets/scripts/Re10k/raw_7/transcode/train\"))"
   ]
  }
 ],
 "metadata": {
  "kernelspec": {
   "display_name": "gaussian_splatting",
   "language": "python",
   "name": "python3"
  },
  "language_info": {
   "codemirror_mode": {
    "name": "ipython",
    "version": 3
   },
   "file_extension": ".py",
   "mimetype": "text/x-python",
   "name": "python",
   "nbconvert_exporter": "python",
   "pygments_lexer": "ipython3",
   "version": "3.8.20"
  }
 },
 "nbformat": 4,
 "nbformat_minor": 5
}
